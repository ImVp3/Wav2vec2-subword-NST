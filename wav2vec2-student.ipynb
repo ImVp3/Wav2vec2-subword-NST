{
 "cells": [
  {
   "cell_type": "markdown",
   "metadata": {
    "_kg_hide-input": false,
    "_kg_hide-output": false
   },
   "source": [
    "# Setup environment"
   ]
  },
  {
   "cell_type": "code",
   "execution_count": null,
   "metadata": {
    "trusted": true
   },
   "outputs": [],
   "source": [
    "# !pip install transformers==4.45.2  datasets==3.0.1   torch-summary  jiwer==3.0.4 torchaudio   wandb >ou \n"
   ]
  },
  {
   "cell_type": "code",
   "execution_count": null,
   "metadata": {
    "trusted": true
   },
   "outputs": [],
   "source": [
    "# !pip install https://github.com/kpu/kenlm/archive/master.zip >ou"
   ]
  },
  {
   "cell_type": "code",
   "execution_count": null,
   "metadata": {
    "trusted": true
   },
   "outputs": [],
   "source": [
    "# !pip install pyctcdecode==0.5.0  evaluate==0.4.3 >ou"
   ]
  },
  {
   "cell_type": "code",
   "execution_count": null,
   "metadata": {
    "execution": {
     "iopub.execute_input": "2023-12-04T14:19:06.088257Z",
     "iopub.status.busy": "2023-12-04T14:19:06.087970Z",
     "iopub.status.idle": "2023-12-04T14:19:12.945281Z",
     "shell.execute_reply": "2023-12-04T14:19:12.944482Z",
     "shell.execute_reply.started": "2023-12-04T14:19:06.088230Z"
    },
    "trusted": true
   },
   "outputs": [],
   "source": [
    "\n",
    "from dataclasses import dataclass, field\n",
    "from tqdm import  tqdm\n",
    "# import wandb\n",
    "\n",
    "import torch\n",
    "from torch.utils.data import  DataLoader\n",
    "from torch import nn, optim,Tensor\n",
    "\n",
    "\n",
    "# from torchsummary import summary\n",
    "import torchaudio\n",
    "import torchaudio.transforms as T\n",
    "\n",
    "\n",
    "import transformers\n",
    "from transformers import (\n",
    "    Trainer,\n",
    "    TrainingArguments,\n",
    "    Wav2Vec2Processor,\n",
    "    Wav2Vec2ForCTC,\n",
    "    Wav2Vec2FeatureExtractor\n",
    "\n",
    ")\n",
    "\n",
    "from copy import deepcopy\n",
    "from typing import Any, Dict, List, Optional, Union,Tuple\n",
    "# import jiwer\n",
    "from inference import Inference\n",
    "\n",
    "import numpy as np\n",
    "\n",
    "from evaluate import load\n",
    "import IPython.display as ipd\n",
    "\n",
    "from dataset import SemiSupervisedDataset,DatasetValidated,DataCollatorCTCWithPadding,DataCollatorTeacherCTCWithPadding\n",
    "from tokenizer import Wav2Vec2WordpieceTokenizer\n",
    "torchaudio.set_audio_backend('soundfile')"
   ]
  },
  {
   "cell_type": "code",
   "execution_count": null,
   "metadata": {
    "trusted": true
   },
   "outputs": [],
   "source": [
    "name_version=\"Student_gen_4\"\n",
    "!wandb login --relogin <token>\n",
    "%env WANDB_PROJECT=ASR_with_NST\n",
    "wandb.init(project='ASR_with_NST', name=f\"{name_version}\")"
   ]
  },
  {
   "cell_type": "code",
   "execution_count": null,
   "metadata": {
    "execution": {
     "iopub.execute_input": "2023-12-04T14:19:12.947844Z",
     "iopub.status.busy": "2023-12-04T14:19:12.947097Z",
     "iopub.status.idle": "2023-12-04T14:19:12.981668Z",
     "shell.execute_reply": "2023-12-04T14:19:12.980766Z",
     "shell.execute_reply.started": "2023-12-04T14:19:12.947807Z"
    },
    "trusted": true
   },
   "outputs": [],
   "source": [
    "device = torch.device(\"cuda:0\") if torch.cuda.is_available() else torch.device(\"cpu\")\n",
    "print(\"Device:\", device)"
   ]
  },
  {
   "cell_type": "code",
   "execution_count": null,
   "metadata": {
    "execution": {
     "iopub.execute_input": "2023-12-04T14:19:14.238621Z",
     "iopub.status.busy": "2023-12-04T14:19:14.238189Z",
     "iopub.status.idle": "2023-12-04T14:19:14.495197Z",
     "shell.execute_reply": "2023-12-04T14:19:14.494373Z",
     "shell.execute_reply.started": "2023-12-04T14:19:14.238590Z"
    },
    "trusted": true
   },
   "outputs": [],
   "source": [
    "# model_name_student = \"nguyenvulebinh/wav2vec2-base-vietnamese-250h\"\n",
    "model_name_teacher= \"/kaggle/input/student-gen-3-subword\"\n",
    "model_name_student = \"/kaggle/input/student-gen-4-subword\"\n",
    "\n",
    "batch_size = 40\n",
    "batch_size_text = 2\n",
    "repo_name=\"Student_base\"\n",
    "checkpoint_resume=model_name_student\n",
    "# checkpoint_resume=None\n",
    "# lr = 0.0005 * batch_size ** (1 / 2)\n",
    "lr = 1e-5\n",
    "max_lr=5e-5\n",
    "max_epochs = 15\n",
    "\n",
    "\n",
    "\n",
    "tokenizer=Wav2Vec2WordpieceTokenizer('/kaggle/input/vocab-model/vocab.json', bos_token=\"<s>\", eos_token=\"</s>\", unk_token=\"<unk>\", pad_token=\"<pad>\", word_delimiter_token=\"|\")\n",
    "feature_extractor=Wav2Vec2FeatureExtractor.from_pretrained(\"nguyenvulebinh/wav2vec2-base-vietnamese-250h\")\n",
    "processor =Wav2Vec2Processor(feature_extractor=feature_extractor,tokenizer=tokenizer)"
   ]
  },
  {
   "cell_type": "code",
   "execution_count": null,
   "metadata": {
    "execution": {
     "iopub.execute_input": "2023-12-04T14:19:16.381239Z",
     "iopub.status.busy": "2023-12-04T14:19:16.380909Z",
     "iopub.status.idle": "2023-12-04T14:19:16.938438Z",
     "shell.execute_reply": "2023-12-04T14:19:16.937479Z",
     "shell.execute_reply.started": "2023-12-04T14:19:16.381212Z"
    },
    "trusted": true
   },
   "outputs": [],
   "source": [
    "\n",
    "train_dataset = SemiSupervisedDataset(\n",
    "    processor,\n",
    ")\n",
    "test_dataset=DatasetValidated(  \n",
    "    processor,\n",
    "    path='/kaggle/input/commonvoice-vie/cv-corpus-15.0-2023-09-08',\n",
    "    path_csv='/kaggle/input/datacsv/commonvoice_test.csv'\n",
    ")\n",
    "val_dataset=DatasetValidated(  \n",
    "    processor,\n",
    ")"
   ]
  },
  {
   "cell_type": "code",
   "execution_count": null,
   "metadata": {
    "execution": {
     "iopub.execute_input": "2023-12-04T14:19:28.026190Z",
     "iopub.status.busy": "2023-12-04T14:19:28.025834Z",
     "iopub.status.idle": "2023-12-04T14:19:31.450572Z",
     "shell.execute_reply": "2023-12-04T14:19:31.449764Z",
     "shell.execute_reply.started": "2023-12-04T14:19:28.026160Z"
    },
    "trusted": true
   },
   "outputs": [],
   "source": [
    "teacher = Wav2Vec2ForCTC.from_pretrained(model_name_teacher)\n",
    "teacher.to(device)\n",
    "teacher.freeze_feature_encoder()\n",
    "# print(model)\n",
    "# print(summary(model,input_size= (1, 500)))"
   ]
  },
  {
   "cell_type": "code",
   "execution_count": null,
   "metadata": {
    "execution": {
     "iopub.execute_input": "2023-12-04T14:19:31.452343Z",
     "iopub.status.busy": "2023-12-04T14:19:31.452053Z",
     "iopub.status.idle": "2023-12-04T14:19:31.523451Z",
     "shell.execute_reply": "2023-12-04T14:19:31.522488Z",
     "shell.execute_reply.started": "2023-12-04T14:19:31.452317Z"
    },
    "trusted": true
   },
   "outputs": [],
   "source": [
    "teacher_inference=Inference(teacher,processor)"
   ]
  },
  {
   "cell_type": "code",
   "execution_count": null,
   "metadata": {
    "execution": {
     "iopub.execute_input": "2023-12-04T14:19:31.524788Z",
     "iopub.status.busy": "2023-12-04T14:19:31.524528Z",
     "iopub.status.idle": "2023-12-04T14:19:31.532895Z",
     "shell.execute_reply": "2023-12-04T14:19:31.532127Z",
     "shell.execute_reply.started": "2023-12-04T14:19:31.524765Z"
    },
    "trusted": true
   },
   "outputs": [],
   "source": [
    "data_collator = DataCollatorTeacherCTCWithPadding(processor=processor,teacher=teacher_inference, padding=True)\n",
    "data_collator_test = DataCollatorCTCWithPadding(processor=processor, padding=True)"
   ]
  },
  {
   "cell_type": "code",
   "execution_count": null,
   "metadata": {
    "execution": {
     "iopub.execute_input": "2023-12-04T14:19:33.590716Z",
     "iopub.status.busy": "2023-12-04T14:19:33.590341Z",
     "iopub.status.idle": "2023-12-04T14:19:33.596798Z",
     "shell.execute_reply": "2023-12-04T14:19:33.595762Z",
     "shell.execute_reply.started": "2023-12-04T14:19:33.590689Z"
    },
    "trusted": true
   },
   "outputs": [],
   "source": [
    "# train_dataloader = DataLoader(\n",
    "#     train_dataset,\n",
    "#     batch_size=batch_size,\n",
    "#     collate_fn=data_collator,\n",
    "#     shuffle=True,\n",
    "#     pin_memory=True,\n",
    "#     num_workers=0,\n",
    "#     drop_last=False,\n",
    "# )\n",
    "test_dataloader = DataLoader(\n",
    "    test_dataset,\n",
    "    batch_size=batch_size_text,\n",
    "    collate_fn=data_collator_test,\n",
    "    shuffle=False,\n",
    "    pin_memory=True,\n",
    "    num_workers=2,\n",
    "    drop_last=False,\n",
    ")\n",
    "val_dataloader = DataLoader(\n",
    "    val_dataset,\n",
    "    batch_size=batch_size_text,\n",
    "    collate_fn=data_collator_test,\n",
    "    shuffle=False,\n",
    "    pin_memory=True,\n",
    "    num_workers=2,\n",
    "    drop_last=False,\n",
    ")"
   ]
  },
  {
   "cell_type": "code",
   "execution_count": null,
   "metadata": {
    "execution": {
     "iopub.execute_input": "2023-12-04T14:19:36.256948Z",
     "iopub.status.busy": "2023-12-04T14:19:36.256239Z",
     "iopub.status.idle": "2023-12-04T14:19:36.262843Z",
     "shell.execute_reply": "2023-12-04T14:19:36.261852Z",
     "shell.execute_reply.started": "2023-12-04T14:19:36.256911Z"
    },
    "trusted": true
   },
   "outputs": [],
   "source": [
    "len(train_dataset)"
   ]
  },
  {
   "cell_type": "code",
   "execution_count": null,
   "metadata": {
    "trusted": true
   },
   "outputs": [],
   "source": [
    "# for d in tqdm(train_dataloader):\n",
    "#     pass\n",
    "#     break\n"
   ]
  },
  {
   "cell_type": "code",
   "execution_count": null,
   "metadata": {
    "execution": {
     "iopub.execute_input": "2023-12-04T14:26:52.791172Z",
     "iopub.status.busy": "2023-12-04T14:26:52.790776Z",
     "iopub.status.idle": "2023-12-04T14:26:54.058028Z",
     "shell.execute_reply": "2023-12-04T14:26:54.057057Z",
     "shell.execute_reply.started": "2023-12-04T14:26:52.791141Z"
    },
    "trusted": true
   },
   "outputs": [],
   "source": [
    "student = Wav2Vec2ForCTC.from_pretrained(model_name_student)\n",
    "student.to(device)\n",
    "student.freeze_feature_encoder()\n",
    "# print(model)\n",
    "# print(summary(model,input_size= (1, 500)))"
   ]
  },
  {
   "cell_type": "code",
   "execution_count": null,
   "metadata": {
    "execution": {
     "iopub.execute_input": "2023-12-04T14:19:43.369799Z",
     "iopub.status.busy": "2023-12-04T14:19:43.368809Z",
     "iopub.status.idle": "2023-12-04T14:19:44.067200Z",
     "shell.execute_reply": "2023-12-04T14:19:44.066216Z",
     "shell.execute_reply.started": "2023-12-04T14:19:43.369750Z"
    },
    "trusted": true
   },
   "outputs": [],
   "source": [
    "wer_metric = load(\"wer\")\n",
    "cer_metric = load(\"cer\")\n",
    "def compute_metrics(pred):\n",
    "    pred_logits = pred.predictions\n",
    "    pred_ids = np.argmax(pred_logits, axis=-1)\n",
    "\n",
    "    pred.label_ids[pred.label_ids == -100] = processor.tokenizer.pad_token_id\n",
    "\n",
    "    pred_str = processor.batch_decode(pred_ids)\n",
    "  \n",
    "    label_str = processor.batch_decode(pred.label_ids, group_tokens=False)\n",
    "\n",
    "    wer = wer_metric.compute(predictions=pred_str, references=label_str)\n",
    "    cer = cer_metric.compute(predictions=pred_str, references=label_str)\n",
    "    return {\"wer\": wer,\"cer\":cer}"
   ]
  },
  {
   "cell_type": "code",
   "execution_count": null,
   "metadata": {
    "trusted": true
   },
   "outputs": [],
   "source": [
    "config = {\n",
    "    \"model_teacher\":model_name_student,\n",
    "    \"model_student\":model_name_teacher,\n",
    "    \"learning_rate\": lr,\n",
    "    \"max_epochs\": max_epochs,\n",
    "    \"batch_size\":  batch_size,\n",
    "}\n",
    "wandb.config = config"
   ]
  },
  {
   "cell_type": "code",
   "execution_count": null,
   "metadata": {
    "trusted": true
   },
   "outputs": [],
   "source": [
    "\n",
    "training_args = TrainingArguments(\n",
    "  output_dir=repo_name,\n",
    "  group_by_length=False,\n",
    "  per_device_train_batch_size=batch_size,\n",
    "  per_device_eval_batch_size =batch_size_text,\n",
    "  evaluation_strategy=\"steps\",\n",
    "  num_train_epochs=max_epochs,\n",
    "  fp16=True,\n",
    "  use_cpu=False,\n",
    "  gradient_checkpointing=True, \n",
    "  save_steps=500,\n",
    "  eval_steps=500,\n",
    "  learning_rate=lr,\n",
    "  weight_decay=0.01,\n",
    "  do_train =True,\n",
    "  save_total_limit=2,\n",
    "  load_best_model_at_end=True,\n",
    "  report_to=\"wandb\", \n",
    "  run_name=f\"{name_version}\", \n",
    "  logging_steps=500,\n",
    "  warmup_steps=50,\n",
    "  logging_strategy='steps'\n",
    "   )"
   ]
  },
  {
   "cell_type": "code",
   "execution_count": null,
   "metadata": {
    "trusted": true
   },
   "outputs": [],
   "source": [
    "total_steps=int((len(train_dataset)//batch_size+1)*max_epochs)\n",
    "optimizer = optim.AdamW(student.parameters(), lr=lr, betas=(0.9, 0.9999))\n",
    "# scheduler = optim.lr_scheduler.OneCycleLR(\n",
    "#     optimizer, max_lr=max_lr, pct_start=0.3, total_steps=total_steps\n",
    "# )\n",
    "scheduler = optim.lr_scheduler.ConstantLR(optimizer, factor=1.0, total_iters=total_steps)\n",
    "print(scheduler.get_lr())\n",
    "print(total_steps)"
   ]
  },
  {
   "cell_type": "code",
   "execution_count": null,
   "metadata": {
    "trusted": true
   },
   "outputs": [],
   "source": [
    "trainer = Trainer(\n",
    "    model=student,\n",
    "    data_collator=data_collator,\n",
    "    args=training_args,\n",
    "    compute_metrics=compute_metrics,\n",
    "    train_dataset=train_dataset,\n",
    "    eval_dataset=val_dataset,\n",
    "    tokenizer=processor.feature_extractor,\n",
    "    optimizers =[optimizer,scheduler]\n",
    "#     optimizers =[optimizer,None]\n",
    ")"
   ]
  },
  {
   "cell_type": "code",
   "execution_count": null,
   "metadata": {
    "trusted": true
   },
   "outputs": [],
   "source": [
    "trainer.train(resume_from_checkpoint=checkpoint_resume)\n",
    "wandb.finish()"
   ]
  },
  {
   "cell_type": "code",
   "execution_count": null,
   "metadata": {
    "execution": {
     "iopub.execute_input": "2023-12-04T14:23:40.128222Z",
     "iopub.status.busy": "2023-12-04T14:23:40.127326Z",
     "iopub.status.idle": "2023-12-04T14:23:40.192389Z",
     "shell.execute_reply": "2023-12-04T14:23:40.191308Z",
     "shell.execute_reply.started": "2023-12-04T14:23:40.128188Z"
    },
    "trusted": true
   },
   "outputs": [],
   "source": [
    "inference=Inference(student,processor)\n",
    "running_wers=inference.test_wer(val_dataloader,50)\n",
    "# running_wers=teacher_inference.test_wer(val_dataloader,100)\n",
    "print(np.mean(running_wers))"
   ]
  },
  {
   "cell_type": "code",
   "execution_count": null,
   "metadata": {
    "execution": {
     "iopub.execute_input": "2023-12-04T14:24:52.056139Z",
     "iopub.status.busy": "2023-12-04T14:24:52.055057Z",
     "iopub.status.idle": "2023-12-04T14:24:52.061549Z",
     "shell.execute_reply": "2023-12-04T14:24:52.060398Z",
     "shell.execute_reply.started": "2023-12-04T14:24:52.056097Z"
    },
    "trusted": true
   },
   "outputs": [],
   "source": [
    "# running_wers=inference.test_wer(test_dataloader)\n",
    "# print(np.mean(running_wers))"
   ]
  }
 ],
 "metadata": {
  "kaggle": {
   "accelerator": "gpu",
   "dataSources": [
    {
     "datasetId": 2011210,
     "sourceId": 3328733,
     "sourceType": "datasetVersion"
    },
    {
     "datasetId": 2143071,
     "sourceId": 3566387,
     "sourceType": "datasetVersion"
    },
    {
     "datasetId": 4039848,
     "sourceId": 7024819,
     "sourceType": "datasetVersion"
    },
    {
     "datasetId": 4100030,
     "sourceId": 7110800,
     "sourceType": "datasetVersion"
    },
    {
     "datasetId": 4100356,
     "sourceId": 7111238,
     "sourceType": "datasetVersion"
    },
    {
     "datasetId": 3847994,
     "sourceId": 7112534,
     "sourceType": "datasetVersion"
    },
    {
     "datasetId": 4104809,
     "sourceId": 7117494,
     "sourceType": "datasetVersion"
    },
    {
     "sourceId": 145546709,
     "sourceType": "kernelVersion"
    },
    {
     "sourceId": 149573565,
     "sourceType": "kernelVersion"
    }
   ],
   "dockerImageVersionId": 30558,
   "isGpuEnabled": true,
   "isInternetEnabled": true,
   "language": "python",
   "sourceType": "notebook"
  },
  "kernelspec": {
   "display_name": "Python 3",
   "language": "python",
   "name": "python3"
  },
  "language_info": {
   "codemirror_mode": {
    "name": "ipython",
    "version": 3
   },
   "file_extension": ".py",
   "mimetype": "text/x-python",
   "name": "python",
   "nbconvert_exporter": "python",
   "pygments_lexer": "ipython3",
   "version": "3.12.2"
  }
 },
 "nbformat": 4,
 "nbformat_minor": 4
}
